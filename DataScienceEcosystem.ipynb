{
 "cells": [
  {
   "cell_type": "markdown",
   "id": "d920ee32",
   "metadata": {},
   "source": [
    "# Data Science Tools and Ecosystem"
   ]
  },
  {
   "cell_type": "markdown",
   "id": "a9f3f2a0",
   "metadata": {},
   "source": [
    "In this notebook, Data Science Tools and Ecosystem are summarised."
   ]
  },
  {
   "cell_type": "markdown",
   "id": "eb5ee426",
   "metadata": {},
   "source": [
    "__Objectives:__\n",
    "- Popular languages used by Data Scientists\n",
    "- Commonly used libraries used by Data Scientists\n",
    "- Data Science open source development environments"
   ]
  },
  {
   "cell_type": "markdown",
   "id": "67f83b2e",
   "metadata": {},
   "source": [
    "Some of the popular languages Data Scientists use are:\n",
    "1. Python\n",
    "2. R\n",
    "3. Julia"
   ]
  },
  {
   "cell_type": "markdown",
   "id": "98ab8ab2",
   "metadata": {},
   "source": [
    "Some of the commonly used libraries used by Data Scientists include:\n",
    "1. Seaborn\n",
    "2. Plotly\n",
    "3. Pandas"
   ]
  },
  {
   "cell_type": "markdown",
   "id": "3e06cb46",
   "metadata": {},
   "source": [
    "| Data Science Tools |\n",
    "| :----------: |\n",
    "| Git |\n",
    "| VS Code |\n",
    "| IDLE |"
   ]
  },
  {
   "cell_type": "markdown",
   "id": "69899820",
   "metadata": {},
   "source": [
    "### Below are a few examples of evaluating arithmetic expressions in Python"
   ]
  },
  {
   "cell_type": "code",
   "execution_count": 4,
   "id": "bee109ee",
   "metadata": {},
   "outputs": [
    {
     "data": {
      "text/plain": [
       "17"
      ]
     },
     "execution_count": 4,
     "metadata": {},
     "output_type": "execute_result"
    }
   ],
   "source": [
    "#this is a simple arithmetic expression to multiply then add integers\n",
    "3*4+5"
   ]
  },
  {
   "cell_type": "code",
   "execution_count": 5,
   "id": "6ccf4a50",
   "metadata": {},
   "outputs": [
    {
     "data": {
      "text/plain": [
       "3.3333333333333335"
      ]
     },
     "execution_count": 5,
     "metadata": {},
     "output_type": "execute_result"
    }
   ],
   "source": [
    "#this will convert 200 minutes to hours by dividing by 60\n",
    "200/60"
   ]
  },
  {
   "cell_type": "markdown",
   "id": "04b155d1",
   "metadata": {},
   "source": [
    "## Author\n",
    "Claudio Fortichiari"
   ]
  },
  {
   "cell_type": "code",
   "execution_count": null,
   "id": "3eb4b95a",
   "metadata": {},
   "outputs": [],
   "source": []
  },
  {
   "cell_type": "code",
   "execution_count": null,
   "id": "156269a6",
   "metadata": {},
   "outputs": [],
   "source": []
  },
  {
   "cell_type": "code",
   "execution_count": null,
   "id": "b432d8ba",
   "metadata": {},
   "outputs": [],
   "source": []
  },
  {
   "cell_type": "code",
   "execution_count": null,
   "id": "11f4cfbd",
   "metadata": {},
   "outputs": [],
   "source": []
  },
  {
   "cell_type": "code",
   "execution_count": null,
   "id": "0e46de05",
   "metadata": {},
   "outputs": [],
   "source": []
  }
 ],
 "metadata": {
  "kernelspec": {
   "display_name": "Python 3 (ipykernel)",
   "language": "python",
   "name": "python3"
  },
  "language_info": {
   "codemirror_mode": {
    "name": "ipython",
    "version": 3
   },
   "file_extension": ".py",
   "mimetype": "text/x-python",
   "name": "python",
   "nbconvert_exporter": "python",
   "pygments_lexer": "ipython3",
   "version": "3.9.12"
  }
 },
 "nbformat": 4,
 "nbformat_minor": 5
}
